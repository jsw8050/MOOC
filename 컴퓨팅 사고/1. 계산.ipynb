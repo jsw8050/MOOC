{
 "cells": [
  {
   "cell_type": "markdown",
   "metadata": {},
   "source": [
    "### 1-1. 계산으로 풀 수 있는 문제\n",
    "- 생각하는 과정이 필요\n",
    "- 어떤 형태로든 암산을 거쳐야 함\n",
    "- 난이도에 따라서 종이에 중간 결과를 적어야 함"
   ]
  },
  {
   "cell_type": "markdown",
   "metadata": {},
   "source": [
    "### 1-2. \"성적을 모두 더한다\"와 \"학생 수를 구한다\"를 이해하지 못한다.\n",
    "**사람의 계산 과정**\n",
    "1. 성적을 모두 더한다.\n",
    "\n",
    "2. 학생 수를 구한다.\n",
    "\n",
    "3. 성적 총합을 학생 수로 나눈다.\n",
    "\n",
    "**필요한 가정**\n",
    "    - 성적을 모두 더할 수 있다.\n",
    "    - 학생 수를 구할 수 있다."
   ]
  },
  {
   "cell_type": "markdown",
   "metadata": {},
   "source": [
    "**컴퓨터의 계산 과정**\n",
    "1. 성적을 모두 더한다.\n",
    "    - 1-1. 성적 총합으로 종이에 0을 쓴다.\n",
    "    - 1-2. 생활기록부를 순서대로 헤어리며 개별 성적을 총합에 더해서 덮어쓴다.\n",
    "    - 1-3. 종이에 적힌 최종 값을 읽는다.\n",
    "2. 학생 수를 구한다.\n",
    "    - 2-1. 학생 수로 종이에 0을 쓴다.\n",
    "    - 2-2. 다시 생활기록부를 순서대로 헤어리며 학생 수에 1을 더해서 덮어쓴다.\n",
    "    - 2-3. 종이에 적힌 최종 값을 읽는다.\n",
    "3. 성적 총합을 학생 수로 나눈다.\n"
   ]
  },
  {
   "cell_type": "markdown",
   "metadata": {},
   "source": [
    "**필요한 가정**\n",
    "- 종이에 숫자를 새로 적을 수 있다.\n",
    "- 종이에 적힌 숫자를 읽을 수 있다.\n",
    "- 생활기록부를 순서대로 헤어릴 수 있다."
   ]
  },
  {
   "cell_type": "markdown",
   "metadata": {},
   "source": [
    "### 1-3. 계산의 네 가지 요소"
   ]
  },
  {
   "cell_type": "markdown",
   "metadata": {},
   "source": [
    "- 계산 대상: 계산의 입력 (생활기록부 더미 등)\n",
    "- 계산 언어: 계산 과정 설명에 쓸 수 있는 단어와 표현 (간결 또는 상세히)\n",
    "- 계산 과정: 계산언어에서 허용하는 언어와 표현을 이용하여\n",
    "- 계산 수행: 암산 또는 계산"
   ]
  },
  {
   "cell_type": "markdown",
   "metadata": {},
   "source": [
    "- 계산 수행 주체: 계산 과정은 계산 수행 주체가 이해하는 계산 언어를 써야 함\n",
    "- 계산 설계\n",
    "    - 계산으로 답 구하기까지 시간을 결정\n",
    "    - 설계가 나쁘면: 계산 수행 주체 능력이 뛰어나도 시간이 오래 걸림\n",
    "    - 설계가 좋으면: 계산 수행 주체 능력에 상관없음"
   ]
  },
  {
   "cell_type": "markdown",
   "metadata": {},
   "source": [
    "### 1-4. 계산 설계하기\n",
    "- 계산 = 무엇(계산 대상)을 어떻게(계산 과정=알고리즘)?"
   ]
  },
  {
   "cell_type": "markdown",
   "metadata": {},
   "source": [
    "- 계산 대상: 생활기록부 더미 -> 성적 더미 (계산 자료)\n",
    "    - 알맹이 요약하기!!\n",
    "    - 문제의 입력값, 중간계산결과, 최종계산결과 --> 계산 자료로 표현"
   ]
  },
  {
   "cell_type": "markdown",
   "metadata": {},
   "source": [
    "- 계산 과정: 계산자료에 따라 다르다.\n",
    "    - 계산 언어에서 허용하는 기본 계산 과정: 덧셈, 나눗셈 등\n",
    "    - 계산 과정 = 기본 계산 과정의 조합, 연산과 명령의 조합\n",
    "        - 연산: 외부와 소통하지 않고 수행, 외부에 미치는 영향 없음 (암산, 나만 보려고 살짝 필기)\n",
    "        - 명령: 외부와 소통, 외부에 영향을 미침 (종이를 준비해서 새로 씀, 누군가가 볼 수 있음!)"
   ]
  },
  {
   "cell_type": "markdown",
   "metadata": {},
   "source": [
    "**연산과 명령 새로 만들기**\n",
    "\n",
    "- 계산 언어 확장하기: x 곱하기 y = x 더하기 x 더하기... (y번)\n",
    "- 명령을 한 번이라도 하면 명령!\n",
    "- 연산은 명령 포함 불가능"
   ]
  },
  {
   "cell_type": "markdown",
   "metadata": {},
   "source": [
    "- 연산: 다시 수행해도 결과가 똑같음: 분리 가능, 전체 설계 덜 복잡\n",
    "- 명령: 수행할 때마다 결과 달라짐: 분리 불가, 전체 설계가 복잡\n",
    "    "
   ]
  },
  {
   "cell_type": "code",
   "execution_count": null,
   "metadata": {},
   "outputs": [],
   "source": []
  },
  {
   "cell_type": "code",
   "execution_count": null,
   "metadata": {},
   "outputs": [],
   "source": []
  }
 ],
 "metadata": {
  "kernelspec": {
   "display_name": "Python 3",
   "language": "python",
   "name": "python3"
  },
  "language_info": {
   "codemirror_mode": {
    "name": "ipython",
    "version": 3
   },
   "file_extension": ".py",
   "mimetype": "text/x-python",
   "name": "python",
   "nbconvert_exporter": "python",
   "pygments_lexer": "ipython3",
   "version": "3.7.6"
  }
 },
 "nbformat": 4,
 "nbformat_minor": 4
}
