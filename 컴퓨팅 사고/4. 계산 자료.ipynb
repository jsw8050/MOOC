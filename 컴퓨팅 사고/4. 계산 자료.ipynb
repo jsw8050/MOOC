{
 "cells": [
  {
   "cell_type": "markdown",
   "metadata": {},
   "source": [
    "### 1. 기본 자료\n",
    "- 계산 자료의 가장 작은 단위\n",
    "- 더 이상 쪼갤 수 없는 계산 자료\n",
    "    - \"성적 총합은 **1729**이다.\"\n",
    "    - \"생활기록부가 아직 **남아있다.**\"\n",
    "    - \"가장 가까운 도시는 **부산**이다.\""
   ]
  },
  {
   "cell_type": "markdown",
   "metadata": {},
   "source": [
    "**파이썬 언어의 기본 자료**\n",
    "\n",
    "- 정수: 1729, 0, -1729\n",
    "- 논리값: True, False\n",
    "- 문자열: \"안녕하세요?\", '\"\"', ' ' (공백 글자 포함)\n",
    "    - 문자열이 표현하는 단어와 문장을 프로그램으로 해석하지 않음\n",
    "        : 'True'는 글자 T,r,u,e "
   ]
  },
  {
   "cell_type": "markdown",
   "metadata": {},
   "source": [
    "**기본 자료 = 프로그램 = 계산 결과**\n",
    "\n",
    "- 기본 자료 실행\n",
    "    - \"정수 1729를 계산한다.\"\n",
    "- 기본 자료 계산 = 기본 자료 기억하기"
   ]
  },
  {
   "cell_type": "markdown",
   "metadata": {},
   "source": [
    "####  기본 자료 프로그래밍 예\n",
    "- 프로그램: 1728\n",
    "- 계산결과: 1728"
   ]
  },
  {
   "cell_type": "markdown",
   "metadata": {},
   "source": [
    "### 2. 기본 자료로 표현하기\n",
    "- 성적: 정수로 표현\n",
    "    - 사람언어: 95점\n",
    "    - 파이썬 언어: 95\n",
    "- 과목 이름: 문자열로 표현\n",
    "    - 사람언어: 수학\n",
    "    - 파이썬: '수학'\n",
    "- 생년월일\n",
    "    - 여덟자리 정수\n",
    "        - 사람언어: 1995년 11월 15일\n",
    "        - 파이썬: 19951115\n",
    "- 성별\n",
    "    - 문자열\n",
    "        - 남 여\n",
    "        - '남', '여'\n",
    "    - 논리값\n",
    "        - 남 여\n",
    "        - 남 True(or False), 여 false(or true)"
   ]
  },
  {
   "cell_type": "markdown",
   "metadata": {},
   "source": [
    "## 3. 여러곱 - 계산 자료의 '그리고'\n",
    "### '그리고'\n",
    "- 생활기록부에서 이름 **그리고** 성적을 뽑아낸다.\n",
    "- 국어 **그리고** 영어 **그리고** 수학은 공통 수강생이 있다."
   ]
  },
  {
   "cell_type": "markdown",
   "metadata": {},
   "source": [
    "**파이썬 여러곱**\n",
    "- 괄호 사이에 계산 자료 나열하고 쉼표로 분리\n",
    "- 각 계산 자료 = 여러곱 원소\n",
    "    - (계산 자료1, 계산 자료2, ..., 계산자료 n)\n",
    "- 사람 언어: \"정수 1729 그리고 단어 Hello 그리고 참\"\n",
    "- 파이썬 언어: (1729, 'Hello', True)"
   ]
  },
  {
   "cell_type": "markdown",
   "metadata": {},
   "source": [
    "#### 여러곱의 특수한 형태\n",
    "- 계산 자료 하나로 엮은 여러곱\n",
    "    - (1729) = 1729\n",
    "- 원소가 없는 여러 곱\n",
    "    "
   ]
  },
  {
   "cell_type": "markdown",
   "metadata": {},
   "source": [
    "#### 여러곱의 특징\n",
    "- 여러곱 = 프로그램\n",
    "- 더 큰 여러곱을 만들 때 쓸 수 있음\n",
    "    - 사람언어\n",
    "        - 정수 1729 그리고 단어 Hello 그리고 참\n",
    "        - 정수 1729 그리고 단어, Hello 그리고 참\n",
    "        - 정수 1729, 그리고 단어 Hello 그리고 참\n",
    "    - 파이썬 언어\n",
    "        - (1729, 'Hello', True)\n",
    "        - ((1729, 'Hello'), True)\n",
    "        - (1729, ('Hello', True))"
   ]
  },
  {
   "cell_type": "markdown",
   "metadata": {},
   "source": [
    "### 여러곱으로 표현하기\n",
    "#### 주소: 행정 구역 단위별로 엮음\n",
    "- 서울시 중구 명동 76번지\n",
    "- ('서울시;, '중구', '명동', 76)\n",
    "\n",
    "#### 거리: 단위와 거리 값을 따로 엮음\n",
    "- 40 km : ('km', 40)\n",
    "- 40 m : ('m', 40)"
   ]
  },
  {
   "cell_type": "markdown",
   "metadata": {},
   "source": [
    "### 여러합 - 계산 자료의 '또는'\n",
    "#### 접속사 '또는'\n",
    "- 생활기록부를 찾으려면 이름 **또는** 생년월일이 필요하다. : 계산 자료 집합 생성\n",
    "- 시험은 월요일 **또는** 화요일 **또는** 수요일에 시작한다. : 계산 자료 집합 생성"
   ]
  },
  {
   "cell_type": "markdown",
   "metadata": {},
   "source": [
    " 이름 **또는** 생년월일이 필요하다. = 이름 집합과 생년월일 집합의 **합집합**에서 원소가 하나 필요하다."
   ]
  },
  {
   "cell_type": "markdown",
   "metadata": {},
   "source": [
    "#### 여러합\n",
    "- 접속사 **또는**을 써서 정의한 합집합\n",
    "- 개별 원소는 종류와 내용을 포함\n",
    "- 이름 또는 생년월일\n",
    "    - 종류 = 이름,     내용 = 홍길동\n",
    "    - 종류 = 생년월일, 내용 = 1981년 9월 18일"
   ]
  },
  {
   "cell_type": "markdown",
   "metadata": {},
   "source": [
    "#### 프로그래밍 언어에서 여러합\n",
    "- 프로그래밍 언어마다 다름\n",
    "- 파이썬\n",
    "    - 종류와 내용 쌍으로 이루어진 여러곱으로 여러합 원소를 표현\n",
    "    - 내용이 없으면 종류만으로 이루어진 여러곱으로 표현\n",
    "        - 여러합 원소 = (종류, 내용)\n",
    "        - 여러합 원소 = (종류,)\n",
    "    - 이름 또는 생년월일\n",
    "        - 사람언어: 종류 = 이름, 내용 = 홍길동\n",
    "        - 파이썬: ('이름', '홍길동')"
   ]
  },
  {
   "cell_type": "code",
   "execution_count": null,
   "metadata": {},
   "outputs": [],
   "source": []
  },
  {
   "cell_type": "code",
   "execution_count": null,
   "metadata": {},
   "outputs": [],
   "source": []
  }
 ],
 "metadata": {
  "kernelspec": {
   "display_name": "aiffel",
   "language": "python",
   "name": "aiffel"
  },
  "language_info": {
   "codemirror_mode": {
    "name": "ipython",
    "version": 3
   },
   "file_extension": ".py",
   "mimetype": "text/x-python",
   "name": "python",
   "nbconvert_exporter": "python",
   "pygments_lexer": "ipython3",
   "version": "3.7.6"
  }
 },
 "nbformat": 4,
 "nbformat_minor": 4
}
