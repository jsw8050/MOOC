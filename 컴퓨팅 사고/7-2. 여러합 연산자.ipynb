{
 "cells": [
  {
   "cell_type": "markdown",
   "metadata": {},
   "source": [
    "### 여러합 연산자\n",
    "- '또는'의 의미에 맞게 모든 원소를 빠트림 없이 처리\n",
    "- 모든 가능한 비연산자의 종류 및 내용을 확인해야 한다.\n",
    "- 예: 이름 또는 생년월일\n",
    "    - 종류가 이름인지 생년월일인지 확인\n",
    "    - 원소: 홍길동, 1981년 9월 18일\n",
    "    - 종류가 이름이면 내용을 쪽지에 적은 후, 이름 연산식 수행\n",
    "    - 종류가 생년월일이면 내용을 쪽지에 적은 후, 생년월일 연산식 수행\n",
    "    - 이때 연산값의 꼴은 같아야 한다.\n",
    "    \n",
    "#### 파이썬 여러합 연산자\n",
    "- 조건 연산식 여러 개 통해 수행\n",
    "- ((lambda x: x*1000) (op[1]) if op[0] == 'km' else\n",
    "    (lambda x: x)(op[1]))"
   ]
  }
 ],
 "metadata": {
  "kernelspec": {
   "display_name": "aiffel",
   "language": "python",
   "name": "aiffel"
  },
  "language_info": {
   "codemirror_mode": {
    "name": "ipython",
    "version": 3
   },
   "file_extension": ".py",
   "mimetype": "text/x-python",
   "name": "python",
   "nbconvert_exporter": "python",
   "pygments_lexer": "ipython3",
   "version": "3.7.6"
  }
 },
 "nbformat": 4,
 "nbformat_minor": 4
}
