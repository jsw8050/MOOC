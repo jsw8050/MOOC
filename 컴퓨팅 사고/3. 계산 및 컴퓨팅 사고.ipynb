{
 "cells": [
  {
   "cell_type": "markdown",
   "metadata": {},
   "source": [
    "### 3-1. 계산 과정 바라보기 \n",
    "**나누어 풀기**\n",
    "\n",
    "- 문제를 작은 문제 여러 개로 나누어 생각하기\n",
    "    - 작은 문제는 각기 풀 수 있어야 함\n",
    "    - 계산 자료를 넘겨주는 것 외에는 연관성이 없어야 함\n",
    "    - 예시\n",
    "        - 성적 평균을 구한다. -> 1. 성적을 모두 더한다.\n",
    "                                 2. 학생 수를 구한다.\n",
    "                                 3. 성적 총합을 학생 수로 나눈다."
   ]
  },
  {
   "cell_type": "markdown",
   "metadata": {},
   "source": [
    "**쪼개 풀어 합치기**\n",
    "\n",
    "- 계산 자료를 여러 개로 쪼갠 뒤 작은 답을 구하고 합쳐 최종 답을 구한다.\n",
    "- 쪼갤 수 없는 계산 자료는 그대로 최종 답을 구한다."
   ]
  },
  {
   "cell_type": "markdown",
   "metadata": {},
   "source": [
    "**눈앞 찾기**\n",
    "- 계산 자료 전체를 분석하기 어려울 때 쓸 수 있음\n",
    "- 각 단계에서 취할 수 있는 가장 쉬운 선택만 쫓아감\n"
   ]
  },
  {
   "cell_type": "markdown",
   "metadata": {},
   "source": [
    "**의미에 맞게 빠뜨림 없이**\n",
    "- 의미에 맞게\n",
    "    - 해당 문제 의미에 맞게\n",
    "    - 그렇지 않으면 의미에 어긋남\n",
    "- 빠트림 없이\n",
    "    - 계산 자료를 모두 처리\n",
    "    - 빠트리는 경우가 있다면 불완전\n",
    "- '의미에 맞게 빠트림 없이' 확인하는 예:\n",
    "    - 문제 해결을 위한 계산 과정 전체를 검토\n",
    "    - 프로그래밍 언어에서 기본 연산 설계\n",
    "    - 나누어 풀기에서 작은 문제를 개별적 검토\n",
    "    - 소프트웨어 개발 시 계산 자료 정의"
   ]
  },
  {
   "cell_type": "markdown",
   "metadata": {},
   "source": [
    "### 3-2. 컴퓨팅으로 문제 풀기\n",
    "- 컴퓨팅 사고\n",
    "- 프로그래밍"
   ]
  },
  {
   "cell_type": "markdown",
   "metadata": {},
   "source": [
    "**컴퓨팅 사고 단계**\n",
    "- 프로그래밍에도 익숙해야함\n",
    "    - 프로그래밍 언어가 생각하는 틀에 영향을 주기 때문"
   ]
  },
  {
   "cell_type": "markdown",
   "metadata": {},
   "source": [
    "**프로그래밍 능력 키우기**\n",
    "- 다른 프로그램을 참조하지 않고 스스로 처음부터 끝까지 작성하는 연습 필요\n",
    "- 프로그래밍 = 계산 과정을 글짓기로 설명\n",
    "    - 스스로 써보기!!"
   ]
  },
  {
   "cell_type": "markdown",
   "metadata": {},
   "source": [
    "### 3-3. 컴퓨팅의 한계\n",
    "- \"어떤 문제를 컴퓨팅으로 풀 수 있는가?\"\n",
    "    - 계산 시간 고려하지 않고 이론 상 답이 나오는지만 따짐\n",
    "- \"시간을 아무리 쏟아도 컴퓨팅으로 풀 수 없는 문제가 있는가?\"\n",
    "    - \"계산이란 무엇인가?\"\n",
    "    - \"계산으로 풀 수 없는 문제가 있는가?\""
   ]
  },
  {
   "cell_type": "markdown",
   "metadata": {},
   "source": [
    "**계산이란 무엇인가?**\n",
    "\n",
    "계산 = 튜링 기계 (연산, 명령) = 람다 계산법 (함수 기반 연산) = 계산\n",
    "\n",
    "              |                        |\n",
    "              \n",
    "        만능기계 (컴퓨터)           프로그래밍 언어\n",
    "        \n",
    "                               +\n",
    "                               \n",
    "                             컴퓨팅"
   ]
  },
  {
   "cell_type": "markdown",
   "metadata": {},
   "source": [
    "**계산으로 풀 수 없는 문제가 있는가?**\n",
    "- 이론적으로 무수히 많음\n",
    "- 프로그램을 입력으로 받아서 실행이 끝나는지 판별하라 등.."
   ]
  },
  {
   "cell_type": "code",
   "execution_count": null,
   "metadata": {},
   "outputs": [],
   "source": []
  }
 ],
 "metadata": {
  "kernelspec": {
   "display_name": "Python 3",
   "language": "python",
   "name": "python3"
  },
  "language_info": {
   "codemirror_mode": {
    "name": "ipython",
    "version": 3
   },
   "file_extension": ".py",
   "mimetype": "text/x-python",
   "name": "python",
   "nbconvert_exporter": "python",
   "pygments_lexer": "ipython3",
   "version": "3.7.6"
  }
 },
 "nbformat": 4,
 "nbformat_minor": 4
}
