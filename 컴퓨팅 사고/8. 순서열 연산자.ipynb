{
 "cells": [
  {
   "cell_type": "markdown",
   "metadata": {},
   "source": [
    "### 순서열 연산자\n",
    "- '더미'의 의미에 맞게 빠트림 없이 처리\n",
    "- 순서열에 포함된 원소를 빠트림 없이 처리한다는 뜻이다.\n",
    "\n",
    "#### 순서열 연산자 설계 검증하기\n",
    "1. 순서열 만든 직후 원소나 원소 더미를 뽑아내서 검사\n",
    "2. 내용을 모르는 순서열을 받아서 복제할 수 있는지 검사\n",
    "\n",
    "#### 순서열 연산자 설계\n",
    "- 다음 유도하기에 맞추어 순서열 만들기\n",
    "    - 빈 순서열: []\n",
    "    - 작은 순서열 맨 앞에 원소 하나를 덧붙여 얻은 순서열: [원소] + 작은 순서열\n",
    "- 필요한 연산자\n",
    "    - 두 가지를 두분하는 연산자\n",
    "    - 빈 순서열이 아닐 때 맨 앞 원소와 이후 자은 순서열을 계산하는연산자\n",
    "    \n",
    "#### 순서열 복제하기\n",
    "[] if op == [] else [op[0]] + op[1:]"
   ]
  }
 ],
 "metadata": {
  "kernelspec": {
   "display_name": "aiffel",
   "language": "python",
   "name": "aiffel"
  },
  "language_info": {
   "codemirror_mode": {
    "name": "ipython",
    "version": 3
   },
   "file_extension": ".py",
   "mimetype": "text/x-python",
   "name": "python",
   "nbconvert_exporter": "python",
   "pygments_lexer": "ipython3",
   "version": "3.7.6"
  }
 },
 "nbformat": 4,
 "nbformat_minor": 4
}
