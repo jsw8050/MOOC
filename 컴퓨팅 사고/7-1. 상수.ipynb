{
 "cells": [
  {
   "cell_type": "markdown",
   "metadata": {},
   "source": [
    "### 7-1. 상수 = 컴퓨터 쪽지\n",
    "- 계산을 하다보면 양이 많아서 쪽지에 기록해두고 싶을 때가 있다.\n",
    "- 쪽지를 쓰면 계산 과정을 수행할 때도 나누어 풀 수 있다는 장점이 있다.\n",
    "- 12**3 + 1**3 과 9**3 + 10**3 비교\n",
    "- 12의 세제곱을 계산해서 '12세제곱' 쪽지에 적는다.\n",
    "- '12 세제곱' 쪽지에 적힌 수에 1의 세제곱을 더해서 '왼쪽합' 쪽지에 적는다.\n",
    "- 9의 세제곱을 계산해서 '9세제곱' 쪽지에 적는다.\n",
    "- 10의 세제곱을 계산해서 '10세제곱' 쪽지에 적는다.\n",
    "- '9세제곱'과 '10세제곱' 쪽지에 적힌 수를 더해서 '오른쪽 합' 쪽지에 적는다.\n",
    "- '왼쪽합'과 '오른쪽합' 쪽지에 적힌 수를 비교해서 같은지 본다."
   ]
  },
  {
   "cell_type": "markdown",
   "metadata": {},
   "source": [
    "쪽지를 쓰면 같은 계산을 피할 수 있다.\n",
    "\n",
    "#### 상수\n",
    "- 이름이 있다.\n",
    "- 다시 덮어 쓸 수 없다.\n",
    "    - 항상 같은 값만 읽음\n",
    "    - 읽을 때 외부와 소통하지 않음\n",
    "    - 연산\n",
    "- 버리는 과정은 따로 없음: 컴퓨터가 알아서 버림"
   ]
  },
  {
   "cell_type": "markdown",
   "metadata": {},
   "source": [
    "#### 파이썬 언어에서 상수\n",
    "- 변수의 특수한 경우로 흉내냄\n",
    "이름 = 연산식 -> <연산식> ----> <연산값>\n",
    "- 상수 이름: 첫 글자는 숫자가 될 수 없음\n",
    "- 상수 이름을 잘 정하는 것이 중요 (협업 시)"
   ]
  },
  {
   "cell_type": "code",
   "execution_count": 3,
   "metadata": {},
   "outputs": [
    {
     "data": {
      "text/plain": [
       "True"
      ]
     },
     "execution_count": 3,
     "metadata": {},
     "output_type": "execute_result"
    }
   ],
   "source": [
    "# 상수 확장하기\n",
    "cube12 = 12 ** 3\n",
    "left_sum = cube12 + 1**3\n",
    "cube9 = 9 **3\n",
    "cube10 = 10 **3\n",
    "right_sum = cube9 + cube10\n",
    "left_sum == right_sum"
   ]
  },
  {
   "cell_type": "markdown",
   "metadata": {},
   "source": [
    "#### 조건 연산자\n",
    "#### 어떤 계산할 지 판단하기\n",
    "- 다음 유도하기: 최초 경우인지 아닌지 확인하기\n",
    "    - **만약** 쪽지에 적힌 수가 0**이면** 합으로 0을 계산하고: 최초인지 여부, (참)\n",
    "    - **아니면** 쪽지에 적힌 수의 직전 수까지 합을 구한 뒤 쪽지에 적힌 수를 다시 더한다. (거짓)\n",
    "    \n",
    "- 쪼개 풀어합치기: 쪼갤 수 있는지 여부 확인하기\n",
    "    - **만약** 생활기록부가 하나만 남았다**면** 생활기록부에서 성적을 구하고: 쪼갤 수 있는지 여부, (참)\n",
    "    - **아니면** 생활기록부 더미를 둘로 쪼개서 각 더미에서 성적 합을 구한 뒤 더한다. (거짓)\n",
    "    \n",
    "-> 만약... 이면(참거짓 여부) ....을 계산하고, 아니면...을 계산한다."
   ]
  },
  {
   "cell_type": "markdown",
   "metadata": {},
   "source": [
    "#### 조건 연산자\n",
    "참일 때 연산식 if 논리값 연산식 else 거짓일 때 연산식\n",
    "\n",
    "True if 논리값 연산식 else False = 논리값 연산식\n",
    "\n",
    "False if 논리값 연산식 else True = not 논리값 연산식\n",
    "\n"
   ]
  },
  {
   "cell_type": "markdown",
   "metadata": {},
   "source": [
    "#### 여러곱 연산자\n",
    "여러곱으로부터 원소를 뽑아 냄: 여러곱 연산식 [정수 연산식]\n",
    "- 여러곱 원수가 n개 -> 정수 연산식 연산값 = 0,,,, n-1\n",
    "\n",
    "'그리고'의 의미에 맞게 빠트림 없이\n",
    "- '그리고'의 의미에 맞게 작동"
   ]
  }
 ],
 "metadata": {
  "kernelspec": {
   "display_name": "aiffel",
   "language": "python",
   "name": "aiffel"
  },
  "language_info": {
   "codemirror_mode": {
    "name": "ipython",
    "version": 3
   },
   "file_extension": ".py",
   "mimetype": "text/x-python",
   "name": "python",
   "nbconvert_exporter": "python",
   "pygments_lexer": "ipython3",
   "version": "3.7.6"
  }
 },
 "nbformat": 4,
 "nbformat_minor": 4
}
