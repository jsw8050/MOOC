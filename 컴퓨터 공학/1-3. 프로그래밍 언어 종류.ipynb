{
 "cells": [
  {
   "cell_type": "markdown",
   "metadata": {},
   "source": [
    "### 프로그래밍 언어\n",
    "#### 필요성\n",
    "- 사람과 컴퓨터가 의사소통을 하기 위해 만든 언어\n",
    "- 사람이 컴퓨터에게 지시할 명령어를 기술하기 위해 만들어진 언어\n",
    "\n",
    "#### 종류\n",
    "- 저급언어: 기계어, 어셈블리어 (사람이 해석하기 어렵)\n",
    "- 고급언어: C, C++, Java, Python (사람이 해석 가능)\n",
    "\n",
    "#### 구분\n",
    "- 컴파일러: 고급언어로 작성된 프로그램을 기계어로 번역\n",
    "- 어셈블러: 어셈블리언어로 작성된 프로그램을 기계어로 번역\n"
   ]
  }
 ],
 "metadata": {
  "kernelspec": {
   "display_name": "aiffel",
   "language": "python",
   "name": "aiffel"
  },
  "language_info": {
   "codemirror_mode": {
    "name": "ipython",
    "version": 3
   },
   "file_extension": ".py",
   "mimetype": "text/x-python",
   "name": "python",
   "nbconvert_exporter": "python",
   "pygments_lexer": "ipython3",
   "version": "3.7.6"
  }
 },
 "nbformat": 4,
 "nbformat_minor": 4
}
