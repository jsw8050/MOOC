{
 "cells": [
  {
   "cell_type": "markdown",
   "metadata": {},
   "source": [
    "### 프로그래밍 언어\n",
    "#### 필요성\n",
    "- 사람과 컴퓨터가 의사소통을 하기 위해 만든 언어\n",
    "- 사람이 컴퓨터에게 지시할 명령어를 기술하기 위해 만들어진 언어\n",
    "\n",
    "#### 종류\n",
    "- 저급언어: 기계어, 어셈블리어 (사람이 해석하기 어렵)\n",
    "- 고급언어: C, C++, Java, Python (사람이 해석 가능)\n",
    "\n",
    "#### 구분\n",
    "- 컴파일러: 고급언어로 작성된 프로그램을 기계어로 번역\n",
    "- 어셈블러: 어셈블리언어로 작성된 프로그램을 기계어로 번역\n"
   ]
  },
  {
   "cell_type": "markdown",
   "metadata": {},
   "source": [
    "#### C(1972): 데니스 리치\n",
    "- 유닉스 운영체제 작성을 위해 시스템 프로그래밍 언어로 설계된 언어\n",
    "- 컴파일러나 수많은 소프트웨어 도구(Tool)들도 C언어로 개발\n",
    "- 풍부한 연산자와 데이터 형(Data type)을 갖고 있기 때문에 범용 프로그래밍 언어로서 널리 보급\n",
    "\n",
    "#### C++(1983)\n",
    "- 객체지향 프로그래밍을 지원하기 위해 C언어의 장점을 그대로 계승하며 객체의 상속성 등을 개념을 추가한 효과적인 언어\n",
    "\n",
    "#### 자바(1992)\n",
    "- 미국의 SUN사에서 가전 제품들을 제어하기 위한 언어에서 비롯됨\n",
    "- 객체지향 프로그래밍 언어\n",
    "- 분산 네트워크상에서 프로그래밍 용이\n",
    "\n",
    "#### 파이썬(1991)\n",
    "- 플랫폼 독립적\n",
    "- 인터프리터 언어: 한줄 한줄 기계어로 번역\n",
    "- 동적 타이핑 언어:C, C++는 타입을 정해서 그때그때 입력해줘야하는데 파이썬은 상관 ㄴㄴ\n",
    "- AI 프로그래밍을 위한 많은 라이브러리 제공\n",
    "- C언어로 개발됨"
   ]
  },
  {
   "cell_type": "markdown",
   "metadata": {},
   "source": [
    "#### 프로그래밍 언어"
   ]
  },
  {
   "cell_type": "code",
   "execution_count": null,
   "metadata": {},
   "outputs": [],
   "source": [
    "#### C\n",
    "#include <stdio.h>\n",
    "int main(void)\n",
    "{\n",
    "    printf(\"Hello world!\\n\");\n",
    "    return 0;\n",
    "}"
   ]
  },
  {
   "cell_type": "code",
   "execution_count": null,
   "metadata": {},
   "outputs": [],
   "source": [
    "#### C++\n",
    "#include <iostream>\n",
    "int main()\n",
    "{\n",
    "std::cout << \"Hello world!\"\n",
    "<< std::edn1;;\n",
    "    return 0;\n",
    "}"
   ]
  },
  {
   "cell_type": "code",
   "execution_count": null,
   "metadata": {},
   "outputs": [],
   "source": [
    "#### python\n",
    "print(\"Hello world!\")"
   ]
  },
  {
   "cell_type": "markdown",
   "metadata": {},
   "source": [
    "#### 스크래치(scratch)\n",
    "MIT에서 개발한 sw 교육용 프로그래밍 언어\n",
    "\n",
    "https://scratch.mit.edu\n",
    "\n",
    "#### 엔트리(entry)\n",
    "https://playentry.org/"
   ]
  },
  {
   "cell_type": "code",
   "execution_count": null,
   "metadata": {},
   "outputs": [],
   "source": []
  },
  {
   "cell_type": "code",
   "execution_count": null,
   "metadata": {},
   "outputs": [],
   "source": []
  }
 ],
 "metadata": {
  "kernelspec": {
   "display_name": "aiffel",
   "language": "python",
   "name": "aiffel"
  },
  "language_info": {
   "codemirror_mode": {
    "name": "ipython",
    "version": 3
   },
   "file_extension": ".py",
   "mimetype": "text/x-python",
   "name": "python",
   "nbconvert_exporter": "python",
   "pygments_lexer": "ipython3",
   "version": "3.7.6"
  }
 },
 "nbformat": 4,
 "nbformat_minor": 4
}
