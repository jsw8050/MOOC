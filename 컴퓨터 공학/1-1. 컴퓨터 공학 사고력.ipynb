{
 "cells": [
  {
   "cell_type": "markdown",
   "metadata": {},
   "source": [
    "### 컴퓨터 공학 사고력\n",
    "주어진 문제를 분석, 이해하고 문제의 해결방법을 컴퓨터 공학의 원리를 적용하여 알고리즘을 도출하고 컴퓨터가 이해하는 프로그래밍 언어로 제시하는 사고능력\n",
    "\n",
    "#### 알고리즘\n",
    "문제를 해결하는 방법과 절차\n",
    "\n",
    "#### 컴퓨터공학적 문제해결 과정\n",
    "1. 문제이해 및 분석 \n",
    "2. 컴퓨터 공학 원리 적용 \n",
    "3. 문제 해결 방법의 설계: 알고리즘 설계\n",
    "4. 문제 해결 방법의 프로그래밍: 알고리즘 구현 및 코딩\n",
    "5. 결과 검토\n",
    "\n",
    "\n",
    "- 정보를 처리하는 과정과 방식을 이해하고, 다시 컴퓨터에게 프로그래밍 언어로 명령할 수 있는 사고력\n",
    "- 데이터 수집 -> 자료 수집 -> 데이터 표현 -> 문제 분석 -> 추상화(주요 개념의 일반화 정의) -> 알고리즘과 절차(순서적 단계로 표현) -> 자동화(컴퓨터가 수행할 수 있는 부분) -> 시뮬레이션(모델 만들기)"
   ]
  },
  {
   "cell_type": "markdown",
   "metadata": {},
   "source": [
    "#### 문제 해결 방법의 설계 (알고리즘 설계)\n",
    "분할 정복(divide and conquer) 알고리즘\n",
    "어떤 문제를 해결하는 알고리즘에서 원래 문제를 성질이 똑같은 열 개의 부분 문제로 나누어 해결하여 원래 문제의 해를 구하는 방식\n",
    "\n",
    "- 의사 코드(pseudo code): 일반적인 언어로 코드 흉내\n",
    "- 순서도(flow chart): 상자와 화살표 이용하여 명ㄹ여의 순서 보여주는 도형"
   ]
  },
  {
   "cell_type": "code",
   "execution_count": null,
   "metadata": {},
   "outputs": [],
   "source": []
  }
 ],
 "metadata": {
  "kernelspec": {
   "display_name": "aiffel",
   "language": "python",
   "name": "aiffel"
  },
  "language_info": {
   "codemirror_mode": {
    "name": "ipython",
    "version": 3
   },
   "file_extension": ".py",
   "mimetype": "text/x-python",
   "name": "python",
   "nbconvert_exporter": "python",
   "pygments_lexer": "ipython3",
   "version": "3.7.6"
  }
 },
 "nbformat": 4,
 "nbformat_minor": 4
}
