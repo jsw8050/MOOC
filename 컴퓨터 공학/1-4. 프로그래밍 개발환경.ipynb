{
 "cells": [
  {
   "cell_type": "markdown",
   "metadata": {},
   "source": [
    "### 프로그래밍 개요\n",
    "- 프로그램: 컴퓨터에게 어떤 일의 수행을 지시하는 명령어들의 집합\n",
    "\n",
    "### 프로그램 개발도구\n",
    "- 에디터: 소스코드를 작성할 수 있는 문서 편집기(ex. 메모장), 소스코드, 소스파일\n",
    "    - 소스파일 - [컴파일러] - 목적파일 - [링커] - 실행파일 - [로더] - 메모리 - 실행\n",
    "- 컴파일러: 에디터로 작성된 소스코드를 기계어로 번역해주는 프로그램\n",
    "- 링커: 번역된 여러 목적코드를 하나로 묶어주는 역할(목적코드: 번역된 명령어/기계어)\n",
    "- 디버거: 프로그램 오류를 수정한는 도구: 명령을 줄 단위로\n",
    "- 통합개발환경: 에디터, 컴파일러, 링커, 디버거 기능 모두 제공하는 프로그램(비주얼 스튜디오 등)\n",
    "- 웹기반 컴파일러: http://ideone.com\n",
    "    - 컴파일러 설치없이 웹 브라우저에서 다양한 언어의 컴팡리 지원"
   ]
  }
 ],
 "metadata": {
  "kernelspec": {
   "display_name": "aiffel",
   "language": "python",
   "name": "aiffel"
  },
  "language_info": {
   "codemirror_mode": {
    "name": "ipython",
    "version": 3
   },
   "file_extension": ".py",
   "mimetype": "text/x-python",
   "name": "python",
   "nbconvert_exporter": "python",
   "pygments_lexer": "ipython3",
   "version": "3.7.6"
  }
 },
 "nbformat": 4,
 "nbformat_minor": 4
}
