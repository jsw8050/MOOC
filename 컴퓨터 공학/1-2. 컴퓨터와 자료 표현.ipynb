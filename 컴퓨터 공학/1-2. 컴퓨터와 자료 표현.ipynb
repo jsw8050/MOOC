{
 "cells": [
  {
   "cell_type": "markdown",
   "metadata": {},
   "source": [
    "#### 목차\n",
    "- 컴퓨터와 프로그램\n",
    "- 하드웨어와 소프트웨어\n",
    "- 컴퓨터와 자료표현\n",
    "- 문자 코드"
   ]
  },
  {
   "cell_type": "markdown",
   "metadata": {},
   "source": [
    "### 1. 컴퓨터와 프로그램\n",
    "- 컴퓨터: 전자저긍로 계산을 수행하는 장치\n",
    "- 프로그램: 컴퓨터가 수행할 작업을 지시하는 명령어들의 집합\n",
    "- 하드웨어: 컴퓨터를 굿어하는 물리적인 장치\n",
    "- 소프트웨어: 컴퓨터가 수행할 작업을 지시하는 명령어들의 집합 (문서 작업 포함)\n",
    "    - 시스템 소프트웨어 (운영 체제: 하드웨어와 소프트웨어 연결, 컴파일러: 프로그래밍 언어로 표현된 내용을 기계언어로 번역)\n",
    "    - 응용 소프트웨어 (워드 프로세서, 게임)"
   ]
  },
  {
   "cell_type": "markdown",
   "metadata": {},
   "source": [
    "### 2. 컴퓨터와 자료 표현\n",
    "- 자료 표현 원리: 2진수(binary 체계 사용)\n",
    "- 비트: 0 또는 1의 두 개의 정보를 표현하는 정보의 최소 단위\n",
    "- 바이트: 연속된 8개의 비트(256), 문자를 표현하는 단위\n",
    "\n",
    "#### 컴퓨터와 사람의 의사소통\n",
    "- 문자 코드: N비트의 조합에 일정한 문자를 할당하여 지정한 것, 유니코드, 아스키코드\n",
    "- 아스키 코드(ASCII): 국제적인 표준으로 사용하는 문자 코드 체계로 7비트 사용"
   ]
  }
 ],
 "metadata": {
  "kernelspec": {
   "display_name": "aiffel",
   "language": "python",
   "name": "aiffel"
  },
  "language_info": {
   "codemirror_mode": {
    "name": "ipython",
    "version": 3
   },
   "file_extension": ".py",
   "mimetype": "text/x-python",
   "name": "python",
   "nbconvert_exporter": "python",
   "pygments_lexer": "ipython3",
   "version": "3.7.6"
  }
 },
 "nbformat": 4,
 "nbformat_minor": 4
}
